{
 "cells": [
  {
   "cell_type": "markdown",
   "metadata": {},
   "source": [
    "#### Haiku Generator\n",
    "Description of solution will go here\n",
    "\n",
    "Dataset can be found on Kaggle at: https://www.kaggle.com/datasets/marzenah/azlyrics-recorded-songs-with-lyrics "
   ]
  },
  {
   "cell_type": "code",
   "execution_count": null,
   "metadata": {},
   "outputs": [],
   "source": [
    "import pandas as pd\n",
    "import re\n",
    "import syllapy\n",
    "import nltk\n",
    "from nltk.corpus import words"
   ]
  },
  {
   "cell_type": "code",
   "execution_count": null,
   "metadata": {},
   "outputs": [],
   "source": [
    "# Read the dataset and display the rows and columns\n",
    "data = pd.read_csv('h_artists_songs.csv') \n",
    "\n",
    "data.head()"
   ]
  },
  {
   "cell_type": "code",
   "execution_count": null,
   "metadata": {},
   "outputs": [],
   "source": [
    "# Load only the Lyrics column and display the new dataframe\n",
    "df = pd.DataFrame(data['Lyrics'])\n",
    "\n",
    "df"
   ]
  },
  {
   "cell_type": "code",
   "execution_count": null,
   "metadata": {},
   "outputs": [],
   "source": [
    "# Convert the lyrics dataframe into a list\n",
    "lyrics = df['Lyrics'].tolist()\n",
    "\n",
    "# Clean every lyric from interpunction and other non-text characters\n",
    "lyrics = [re.sub(r\"[^\\w\\s]\", ' ', lyric) for lyric in lyrics]\n",
    "\n",
    "# Remove the word \"Romanized\" as it is not part of the lyrics\n",
    "lyrics = [re.sub('Romanized', ' ', text) for text in lyrics]\n",
    "\n",
    "lyrics[:20]"
   ]
  },
  {
   "cell_type": "code",
   "execution_count": null,
   "metadata": {},
   "outputs": [],
   "source": [
    "# Download the English word corpus from NLTK\n",
    "nltk.download('words')\n",
    "\n",
    "# Create an English dictionary object\n",
    "english_words = set(words.words())\n",
    "\n",
    "# Function to filter out non-English words\n",
    "\n",
    "# TODO: keep lyrics seperated by line\n",
    "lyrics = [word for line in lyrics for word in line.split() if word.lower() in english_words]\n",
    "# lyrics = [word for line in lyrics for word in line.split() if word.lower() not in english_words]\n",
    "# lyrics = [re.sub(lyrics, ' ', word) for word.lower() not in english_words]\n",
    "\n",
    "lyrics[:20]"
   ]
  },
  {
   "cell_type": "code",
   "execution_count": null,
   "metadata": {},
   "outputs": [],
   "source": [
    "def separate_syllables(text):\n",
    "\n",
    "    words = text.split()\n",
    "    separated_text = []\n",
    "\n",
    "    for word in words:\n",
    "\n",
    "        # Use syllapy to count the amount of syllables in a word\n",
    "        syllables = syllapy.count(word)\n",
    "        \n",
    "        separated_text.append(syllables)\n",
    "    \n",
    "    # Return number of syllables for every word in lyrics\n",
    "    return separated_text\n",
    "\n",
    "\n",
    "\n",
    "text = lyrics[0]\n",
    "separated_text = separate_syllables(text)\n",
    "print(separated_text)\n",
    "\n",
    "# for lyric in lyrics:\n",
    "#     text = lyric\n",
    "        \n",
    "#     separated_text = separate_syllables(text)\n",
    "#     print(separated_text)\n"
   ]
  },
  {
   "cell_type": "code",
   "execution_count": null,
   "metadata": {},
   "outputs": [],
   "source": [
    "# Functions to check for 5, 7, 5 patterns in lyrics\n",
    "\n",
    "def count_syllables(words):\n",
    "    # Return the sum of counted syllables for each individual word\n",
    "    return sum(syllapy.count(word) for word in words)\n",
    "\n",
    "def recognize_575_pattern(text):\n",
    "    # Split text into words by separating on spaces\n",
    "    words = text.split()\n",
    "\n",
    "    # Initialize syllable count list\n",
    "    syllable_counts = []\n",
    "    count = 0\n",
    "\n",
    "    # Make sure full words are used to count syllables instead of parts of words\n",
    "    for word in words:\n",
    "        # print(word)\n",
    "        count += syllapy.count(word)\n",
    "        if count == 5 or count == 12:  # Checks for the fifth and twelfth syllable and appends to syllable_counts if true\n",
    "            syllable_counts.append(count)\n",
    "\n",
    "    if count == 17:\n",
    "        syllable_counts.append(count)  # Append the syllable count for the last line\n",
    "        print(syllable_counts)\n",
    "        count = 0\n",
    "    \n",
    "    return syllable_counts == [5, 12, 17] # Return if the counts are 5, 12, 17 in that order (5-7-5 pattern)\n",
    "\n",
    "# test haiku (in 5,7,5 format)\n",
    "haiku = \"new teaching format new better teaching format new teaching format\"\n",
    "\n",
    "#TODO: loop through lyrics instead of using a test haiku\n",
    "\n",
    "for lyric in lyrics:\n",
    "    text = lyric\n",
    "\n",
    "    if recognize_575_pattern(text):\n",
    "        print(f\"This lyric is a haiku: \\n {lyric}\") #TODO: formatting into 5-7-5 syllable lines "
   ]
  }
 ],
 "metadata": {
  "kernelspec": {
   "display_name": "Python 3",
   "language": "python",
   "name": "python3"
  },
  "language_info": {
   "codemirror_mode": {
    "name": "ipython",
    "version": 3
   },
   "file_extension": ".py",
   "mimetype": "text/x-python",
   "name": "python",
   "nbconvert_exporter": "python",
   "pygments_lexer": "ipython3",
   "version": "3.10.13"
  }
 },
 "nbformat": 4,
 "nbformat_minor": 2
}
